{
 "cells": [
  {
   "cell_type": "code",
   "execution_count": 26,
   "metadata": {},
   "outputs": [],
   "source": [
    "import tensorflow as tf\n",
    "from tensorflow import keras\n",
    "from tensorflow.keras.layers import Dense, Dropout\n",
    "from tensorflow.keras.optimizers import Adam\n",
    "import numpy as np\n",
    "\n",
    "import os\n",
    "import sys\n",
    "module_path = os.path.abspath(os.path.join('..'))\n",
    "if module_path not in sys.path:\n",
    "    sys.path.append(module_path) \n",
    "    \n",
    "from warehouse import DataWarehouse\n"
   ]
  },
  {
   "cell_type": "code",
   "execution_count": 51,
   "metadata": {},
   "outputs": [
    {
     "name": "stdout",
     "output_type": "stream",
     "text": [
      "Connecting to 'localhost' with user 'root'\n",
      "Database | Using database is3107g6.\n",
      "Database | Query executed successfully.\n",
      "Database | Query executed successfully.\n"
     ]
    },
    {
     "ename": "KeyError",
     "evalue": "1",
     "output_type": "error",
     "traceback": [
      "\u001b[0;31m---------------------------------------------------------------------------\u001b[0m",
      "\u001b[0;31mKeyError\u001b[0m                                  Traceback (most recent call last)",
      "Cell \u001b[0;32mIn[51], line 27\u001b[0m\n\u001b[1;32m      8\u001b[0m price_train \u001b[39m=\u001b[39m db\u001b[39m.\u001b[39mquery(\u001b[39m'''\u001b[39m\n\u001b[1;32m      9\u001b[0m \u001b[39m      SELECT price FROM main__PropertyTransaction\u001b[39m\n\u001b[1;32m     10\u001b[0m \u001b[39m        LIMIT 100\u001b[39m\n\u001b[1;32m     11\u001b[0m \u001b[39m    \u001b[39m\u001b[39m'''\u001b[39m)\n\u001b[1;32m     13\u001b[0m \u001b[39m# property_test = db.query('''\u001b[39;00m\n\u001b[1;32m     14\u001b[0m \u001b[39m#       SELECT district, floorRangeStart, floorRangeEnd, propertyType, area, transactionDate, tenure, resale FROM main__PropertyTransaction\u001b[39;00m\n\u001b[1;32m     15\u001b[0m \u001b[39m#         LIMIT 30\u001b[39;00m\n\u001b[0;32m   (...)\u001b[0m\n\u001b[1;32m     25\u001b[0m \n\u001b[1;32m     26\u001b[0m \u001b[39m# Data preprocessing into array\u001b[39;00m\n\u001b[0;32m---> 27\u001b[0m property_train \u001b[39m=\u001b[39m [[\u001b[39mfloat\u001b[39m(d[\u001b[39m1\u001b[39m]), d[\u001b[39m1\u001b[39m], \u001b[39mfloat\u001b[39m(d[\u001b[39m2\u001b[39m]), \u001b[39mfloat\u001b[39m(d[\u001b[39m3\u001b[39m]), d[\u001b[39m4\u001b[39m], d[\u001b[39m5\u001b[39m], d[\u001b[39m6\u001b[39m], d[\u001b[39m7\u001b[39m], \u001b[39mfloat\u001b[39m(d[\u001b[39m8\u001b[39m]), d[\u001b[39m9\u001b[39m], d[\u001b[39m10\u001b[39m]] \u001b[39mfor\u001b[39;00m d \u001b[39min\u001b[39;00m property_train]\n\u001b[1;32m     28\u001b[0m \u001b[39m# property_train = [list(d.values()) for d in property_train]    \u001b[39;00m\n\u001b[1;32m     29\u001b[0m property_train \u001b[39m=\u001b[39m np\u001b[39m.\u001b[39masarray(property_train)\n",
      "Cell \u001b[0;32mIn[51], line 27\u001b[0m, in \u001b[0;36m<listcomp>\u001b[0;34m(.0)\u001b[0m\n\u001b[1;32m      8\u001b[0m price_train \u001b[39m=\u001b[39m db\u001b[39m.\u001b[39mquery(\u001b[39m'''\u001b[39m\n\u001b[1;32m      9\u001b[0m \u001b[39m      SELECT price FROM main__PropertyTransaction\u001b[39m\n\u001b[1;32m     10\u001b[0m \u001b[39m        LIMIT 100\u001b[39m\n\u001b[1;32m     11\u001b[0m \u001b[39m    \u001b[39m\u001b[39m'''\u001b[39m)\n\u001b[1;32m     13\u001b[0m \u001b[39m# property_test = db.query('''\u001b[39;00m\n\u001b[1;32m     14\u001b[0m \u001b[39m#       SELECT district, floorRangeStart, floorRangeEnd, propertyType, area, transactionDate, tenure, resale FROM main__PropertyTransaction\u001b[39;00m\n\u001b[1;32m     15\u001b[0m \u001b[39m#         LIMIT 30\u001b[39;00m\n\u001b[0;32m   (...)\u001b[0m\n\u001b[1;32m     25\u001b[0m \n\u001b[1;32m     26\u001b[0m \u001b[39m# Data preprocessing into array\u001b[39;00m\n\u001b[0;32m---> 27\u001b[0m property_train \u001b[39m=\u001b[39m [[\u001b[39mfloat\u001b[39m(d[\u001b[39m1\u001b[39;49m]), d[\u001b[39m1\u001b[39m], \u001b[39mfloat\u001b[39m(d[\u001b[39m2\u001b[39m]), \u001b[39mfloat\u001b[39m(d[\u001b[39m3\u001b[39m]), d[\u001b[39m4\u001b[39m], d[\u001b[39m5\u001b[39m], d[\u001b[39m6\u001b[39m], d[\u001b[39m7\u001b[39m], \u001b[39mfloat\u001b[39m(d[\u001b[39m8\u001b[39m]), d[\u001b[39m9\u001b[39m], d[\u001b[39m10\u001b[39m]] \u001b[39mfor\u001b[39;00m d \u001b[39min\u001b[39;00m property_train]\n\u001b[1;32m     28\u001b[0m \u001b[39m# property_train = [list(d.values()) for d in property_train]    \u001b[39;00m\n\u001b[1;32m     29\u001b[0m property_train \u001b[39m=\u001b[39m np\u001b[39m.\u001b[39masarray(property_train)\n",
      "\u001b[0;31mKeyError\u001b[0m: 1"
     ]
    }
   ],
   "source": [
    "# Extract property from warehouse\n",
    "db = DataWarehouse()\n",
    "property_train = db.query('''\n",
    "      SELECT CAST(district AS FLOAT), CAST(floorRangeStart AS FLOAT), CAST(floorRangeEnd AS FLOAT), propertyType, area, transactionDate, tenure / 1000000.0000000, resale FROM main__PropertyTransaction\n",
    "        LIMIT 10\n",
    "    ''')\n",
    "\n",
    "price_train = db.query('''\n",
    "      SELECT price FROM main__PropertyTransaction\n",
    "        LIMIT 100\n",
    "    ''')\n",
    "\n",
    "# property_test = db.query('''\n",
    "#       SELECT district, floorRangeStart, floorRangeEnd, propertyType, area, transactionDate, tenure, resale FROM main__PropertyTransaction\n",
    "#         LIMIT 30\n",
    "#         OFFSET 70\n",
    "\n",
    "#     ''')\n",
    "\n",
    "# price_test = db.query('''\n",
    "#       SELECT price FROM main__PropertyTransaction\n",
    "#         LIMIT 30\n",
    "#         OFFSET 70\n",
    "#     ''')\n",
    "\n",
    "# Data preprocessing into array\n",
    "property_train = [[float(d[1]), float(d[2]), float(d[3]), d[4], d[5], d[6], d[7], float(d[8]), d[9], d[10]] for d in property_train]\n",
    "# property_train = [list(d.values()) for d in property_train]    \n",
    "property_train = np.asarray(property_train)\n",
    "print(property_train)\n",
    "\n",
    "price_train = [list(d.values()) for d in price_train]   \n",
    "price_train = np.asarray(price_train)\n",
    "print(price_train)\n",
    "\n",
    "# property_test = [list(d.values()) for d in property_test]    \n",
    "# property_test= np.asarray(property_test)\n",
    "# print(property_test)\n",
    "\n",
    "# price_test = [list(d.values()) for d in price_test]    \n",
    "# price_test= np.asarray(price_test)\n",
    "# print(price_test)"
   ]
  },
  {
   "cell_type": "code",
   "execution_count": 31,
   "metadata": {},
   "outputs": [
    {
     "name": "stdout",
     "output_type": "stream",
     "text": [
      "Model: \"sequential_2\"\n",
      "_________________________________________________________________\n",
      " Layer (type)                Output Shape              Param #   \n",
      "=================================================================\n",
      " dense_6 (Dense)             (None, 64)                576       \n",
      "                                                                 \n",
      " dense_7 (Dense)             (None, 64)                4160      \n",
      "                                                                 \n",
      " dense_8 (Dense)             (None, 1)                 65        \n",
      "                                                                 \n",
      "=================================================================\n",
      "Total params: 4,801\n",
      "Trainable params: 4,801\n",
      "Non-trainable params: 0\n",
      "_________________________________________________________________\n"
     ]
    }
   ],
   "source": [
    "# Build model\n",
    "def build_mlp_model():\n",
    "\n",
    "  model = keras.Sequential()\n",
    "  model.add(Dense(64, activation='relu', input_shape=(8,)))\n",
    "  model.add(Dense(64, activation='relu'))\n",
    "  model.add(Dense(1, activation='linear'))\n",
    "  return model\n",
    "\n",
    "mlp_model = build_mlp_model()\n",
    "mlp_model.summary()"
   ]
  },
  {
   "cell_type": "code",
   "execution_count": 32,
   "metadata": {},
   "outputs": [
    {
     "name": "stderr",
     "output_type": "stream",
     "text": [
      "WARNING:absl:At this time, the v2.11+ optimizer `tf.keras.optimizers.Adam` runs slowly on M1/M2 Macs, please use the legacy Keras optimizer instead, located at `tf.keras.optimizers.legacy.Adam`.\n",
      "WARNING:absl:There is a known slowdown when using v2.11+ Keras optimizers on M1/M2 Macs. Falling back to the legacy Keras optimizer, i.e., `tf.keras.optimizers.legacy.Adam`.\n"
     ]
    }
   ],
   "source": [
    "# Compile the model\n",
    "mlp_model.compile(optimizer=Adam(learning_rate=0.001), loss='mean_squared_error', metrics=['mae'])"
   ]
  },
  {
   "cell_type": "code",
   "execution_count": 46,
   "metadata": {},
   "outputs": [
    {
     "ename": "ValueError",
     "evalue": "Failed to convert a NumPy array to a Tensor (Unsupported object type float).",
     "output_type": "error",
     "traceback": [
      "\u001b[0;31m---------------------------------------------------------------------------\u001b[0m",
      "\u001b[0;31mValueError\u001b[0m                                Traceback (most recent call last)",
      "Cell \u001b[0;32mIn[46], line 8\u001b[0m\n\u001b[1;32m      1\u001b[0m \u001b[39m# def train_model(model, train_epochs, bs, x_train, y_train):\u001b[39;00m\n\u001b[1;32m      2\u001b[0m \n\u001b[1;32m      3\u001b[0m \u001b[39m#   return model.fit(\u001b[39;00m\n\u001b[0;32m   (...)\u001b[0m\n\u001b[1;32m      6\u001b[0m \n\u001b[1;32m      7\u001b[0m \u001b[39m# mlp_history = train_model(model = mlp_model, train_epochs = 10, bs = 4, x_train = property_train, y_train = price_train)\u001b[39;00m\n\u001b[0;32m----> 8\u001b[0m mlp_model\u001b[39m.\u001b[39;49mfit(property_train, price_train, epochs\u001b[39m=\u001b[39;49m\u001b[39m5\u001b[39;49m, batch_size\u001b[39m=\u001b[39;49m\u001b[39m4\u001b[39;49m, validation_split\u001b[39m=\u001b[39;49m\u001b[39m0.3\u001b[39;49m)\n",
      "File \u001b[0;32m~/mambaforge/envs/mlp/lib/python3.9/site-packages/keras/utils/traceback_utils.py:70\u001b[0m, in \u001b[0;36mfilter_traceback.<locals>.error_handler\u001b[0;34m(*args, **kwargs)\u001b[0m\n\u001b[1;32m     67\u001b[0m     filtered_tb \u001b[39m=\u001b[39m _process_traceback_frames(e\u001b[39m.\u001b[39m__traceback__)\n\u001b[1;32m     68\u001b[0m     \u001b[39m# To get the full stack trace, call:\u001b[39;00m\n\u001b[1;32m     69\u001b[0m     \u001b[39m# `tf.debugging.disable_traceback_filtering()`\u001b[39;00m\n\u001b[0;32m---> 70\u001b[0m     \u001b[39mraise\u001b[39;00m e\u001b[39m.\u001b[39mwith_traceback(filtered_tb) \u001b[39mfrom\u001b[39;00m \u001b[39mNone\u001b[39m\n\u001b[1;32m     71\u001b[0m \u001b[39mfinally\u001b[39;00m:\n\u001b[1;32m     72\u001b[0m     \u001b[39mdel\u001b[39;00m filtered_tb\n",
      "File \u001b[0;32m~/mambaforge/envs/mlp/lib/python3.9/site-packages/tensorflow/python/framework/constant_op.py:103\u001b[0m, in \u001b[0;36mconvert_to_eager_tensor\u001b[0;34m(value, ctx, dtype)\u001b[0m\n\u001b[1;32m    101\u001b[0m     dtype \u001b[39m=\u001b[39m dtypes\u001b[39m.\u001b[39mas_dtype(dtype)\u001b[39m.\u001b[39mas_datatype_enum\n\u001b[1;32m    102\u001b[0m ctx\u001b[39m.\u001b[39mensure_initialized()\n\u001b[0;32m--> 103\u001b[0m \u001b[39mreturn\u001b[39;00m ops\u001b[39m.\u001b[39;49mEagerTensor(value, ctx\u001b[39m.\u001b[39;49mdevice_name, dtype)\n",
      "\u001b[0;31mValueError\u001b[0m: Failed to convert a NumPy array to a Tensor (Unsupported object type float)."
     ]
    }
   ],
   "source": [
    "# def train_model(model, train_epochs, bs, x_train, y_train):\n",
    "\n",
    "#   return model.fit(\n",
    "#     x_train, y_train, batch_size=bs, epochs=train_epochs\n",
    "#   )\n",
    "\n",
    "# mlp_history = train_model(model = mlp_model, train_epochs = 10, bs = 4, x_train = property_train, y_train = price_train)\n",
    "mlp_model.fit(property_train, price_train, epochs=5, batch_size=4, validation_split=0.3)\n",
    "\n"
   ]
  }
 ],
 "metadata": {
  "kernelspec": {
   "display_name": "Python 3",
   "language": "python",
   "name": "python3"
  },
  "language_info": {
   "codemirror_mode": {
    "name": "ipython",
    "version": 3
   },
   "file_extension": ".py",
   "mimetype": "text/x-python",
   "name": "python",
   "nbconvert_exporter": "python",
   "pygments_lexer": "ipython3",
   "version": "3.9.16"
  },
  "orig_nbformat": 4,
  "vscode": {
   "interpreter": {
    "hash": "9b996d74428cb98fb363d931233fbb38b0ce88b2e0e1a2ea6a636f62c3ef3ff6"
   }
  }
 },
 "nbformat": 4,
 "nbformat_minor": 2
}
